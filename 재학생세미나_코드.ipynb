{
 "cells": [
  {
   "cell_type": "code",
   "execution_count": null,
   "metadata": {
    "colab": {
     "base_uri": "https://localhost:8080/",
     "height": 757
    },
    "id": "VeZJqvar2uDr",
    "outputId": "cb5c6e63-4c94-4f17-d9d3-18b911062d80"
   },
   "outputs": [
    {
     "name": "stdout",
     "output_type": "stream",
     "text": [
      "Epoch 1/7\n",
      "\u001b[1m1500/1500\u001b[0m \u001b[32m━━━━━━━━━━━━━━━━━━━━\u001b[0m\u001b[37m\u001b[0m \u001b[1m62s\u001b[0m 41ms/step - accuracy: 0.7331 - loss: 0.7435 - val_accuracy: 0.8812 - val_loss: 0.3227\n",
      "Epoch 2/7\n",
      "\u001b[1m1500/1500\u001b[0m \u001b[32m━━━━━━━━━━━━━━━━━━━━\u001b[0m\u001b[37m\u001b[0m \u001b[1m63s\u001b[0m 42ms/step - accuracy: 0.8765 - loss: 0.3428 - val_accuracy: 0.9025 - val_loss: 0.2657\n",
      "Epoch 3/7\n",
      "\u001b[1m1500/1500\u001b[0m \u001b[32m━━━━━━━━━━━━━━━━━━━━\u001b[0m\u001b[37m\u001b[0m \u001b[1m81s\u001b[0m 41ms/step - accuracy: 0.8951 - loss: 0.2930 - val_accuracy: 0.9020 - val_loss: 0.2744\n",
      "Epoch 4/7\n",
      "\u001b[1m1500/1500\u001b[0m \u001b[32m━━━━━━━━━━━━━━━━━━━━\u001b[0m\u001b[37m\u001b[0m \u001b[1m81s\u001b[0m 41ms/step - accuracy: 0.9088 - loss: 0.2648 - val_accuracy: 0.9109 - val_loss: 0.2558\n",
      "Epoch 5/7\n",
      "\u001b[1m1500/1500\u001b[0m \u001b[32m━━━━━━━━━━━━━━━━━━━━\u001b[0m\u001b[37m\u001b[0m \u001b[1m81s\u001b[0m 40ms/step - accuracy: 0.9108 - loss: 0.2565 - val_accuracy: 0.9128 - val_loss: 0.2505\n",
      "Epoch 6/7\n",
      "\u001b[1m1500/1500\u001b[0m \u001b[32m━━━━━━━━━━━━━━━━━━━━\u001b[0m\u001b[37m\u001b[0m \u001b[1m83s\u001b[0m 41ms/step - accuracy: 0.9147 - loss: 0.2532 - val_accuracy: 0.9119 - val_loss: 0.2474\n",
      "Epoch 7/7\n",
      "\u001b[1m1500/1500\u001b[0m \u001b[32m━━━━━━━━━━━━━━━━━━━━\u001b[0m\u001b[37m\u001b[0m \u001b[1m61s\u001b[0m 40ms/step - accuracy: 0.9146 - loss: 0.2490 - val_accuracy: 0.9087 - val_loss: 0.2519\n"
     ]
    },
    {
     "data": {
      "image/png": "[encoded data removed]",
      "text/plain": [
       "<Figure size 640x480 with 1 Axes>"
      ]
     },
     "metadata": {},
     "output_type": "display_data"
    },
    {
     "name": "stdout",
     "output_type": "stream",
     "text": [
      "\u001b[1m1/1\u001b[0m \u001b[32m━━━━━━━━━━━━━━━━━━━━\u001b[0m\u001b[37m\u001b[0m \u001b[1m0s\u001b[0m 70ms/step\n",
      "[[1.1053669e-12 2.9837573e-19 1.0843155e-13 2.1817797e-13 3.4700476e-13\n",
      "  1.0413580e-11 2.1256772e-13 8.9363733e-12 1.0000000e+00 1.5781091e-13]]\n",
      "가방\n"
     ]
    }
   ],
   "source": [
    "#라이브러리 불러오기\n",
    "from tensorflow import keras\n",
    "from sklearn.model_selection import train_test_split\n",
    "import matplotlib.pyplot as plt\n",
    "import numpy as np\n",
    "\n",
    "\n",
    "#데이터 전처리\n",
    "(train_input, train_target), (test_input, test_target) = \\\n",
    "    keras.datasets.fashion_mnist.load_data() #훈련 데이터와 테스트 데이터로 분할\n",
    "\n",
    "train_scaled = train_input.reshape(-1, 28, 28, 1) / 255.0 #데이터 정규화\n",
    "\n",
    "train_scaled, val_scaled, train_target, val_target = train_test_split( #훈련 데이터 내에서 훈련 데이터와 검증 데이터로 분할\n",
    "    train_scaled, train_target, test_size=0.2, random_state=42)\n",
    "\n",
    "\n",
    "#모델 생성\n",
    "model = keras.Sequential() #모델 순차적으로 쌓음\n",
    "model.add(keras.layers.Conv2D(32, kernel_size=3, activation='relu', padding='same', input_shape=(28,28,1))) #합성곱층\n",
    "model.add(keras.layers.MaxPooling2D(2)) #풀링층\n",
    "model.add(keras.layers.Conv2D(64, kernel_size=(3,3), activation='relu',padding='same'))\n",
    "model.add(keras.layers.MaxPooling2D(2))\n",
    "model.add(keras.layers.Flatten()) #2차원 데이터 1차원으로 펴기\n",
    "model.add(keras.layers.Dense(100, activation='relu'))\n",
    "model.add(keras.layers.Dropout(0.4)) #40%의 뉴런 무작위로 드롭하여 과적합 방지\n",
    "model.add(keras.layers.Dense(10, activation='softmax')) #10개 클래스 예측\n",
    "\n",
    "\n",
    "#모델 학습\n",
    "model.compile(loss='sparse_categorical_crossentropy', metrics=['accuracy']) #모델 컴파일\n",
    "history = model.fit(train_scaled, train_target, epochs=7, validation_data=(val_scaled, val_target)) #모델 학습\n",
    "\n",
    "\n",
    "#이미지 시각화\n",
    "plt.imshow(val_scaled[4].reshape(28, 28), cmap='gray_r')\n",
    "plt.show()\n",
    "\n",
    "#이미지 클래스일 확률 표시\n",
    "preds = model.predict(val_scaled[4:5])\n",
    "print(preds)\n",
    "\n",
    "#이미지 예측 클래스\n",
    "classes = ['티셔츠', '바지', '스웨터', '드레스', '코트', '샌달', '셔츠', '스니커즈', '가방', '앵클 부츠']\n",
    "print(classes[np.argmax(preds)])"
   ]
  }
 ],
 "metadata": {
  "colab": {
   "provenance": []
  },
  "kernelspec": {
   "display_name": "Python 3",
   "name": "python3"
  },
  "language_info": {
   "name": "python"
  }
 },
 "nbformat": 4,
 "nbformat_minor": 0
}
